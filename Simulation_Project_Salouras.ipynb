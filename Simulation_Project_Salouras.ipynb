{
 "cells": [
  {
   "cell_type": "markdown",
   "metadata": {},
   "source": [
    "# Simulation Project\n",
    "* Name - Panos Salouras\n",
    "* Class period - 7th\n",
    "* Problem number - 3\n",
    "* Problem text - A couple plans to have children until they have a girl or until they have four children, whichever comes first. Estimate the likelihood that they will have a girl. Assume that each child has probability 0.5 of being a girl and 0.5 of being a boy, and the sexes of successive children are independent. "
   ]
  },
  {
   "cell_type": "markdown",
   "metadata": {},
   "source": [
    "### Single Trial Setup"
   ]
  },
  {
   "cell_type": "code",
   "execution_count": 1,
   "metadata": {},
   "outputs": [
    {
     "name": "stdout",
     "output_type": "stream",
     "text": [
      "Girl is Born\n"
     ]
    }
   ],
   "source": [
    "# Write code to run a single trial\n",
    "# Refer to your World Series Simulation as a resource!\n",
    "\n",
    "import numpy as np\n",
    "\n",
    "single_child = np.random.randint(1,101)\n",
    "\n",
    "if (single_child <=50):\n",
    "    print(\"Boy is Born\")\n",
    "else:\n",
    "    print(\"Girl is Born\")"
   ]
  },
  {
   "cell_type": "markdown",
   "metadata": {},
   "source": [
    "### Single Trial Function"
   ]
  },
  {
   "cell_type": "code",
   "execution_count": 2,
   "metadata": {},
   "outputs": [
    {
     "name": "stdout",
     "output_type": "stream",
     "text": [
      "Girl\n"
     ]
    }
   ],
   "source": [
    "# Define a function that runs a single trial and returns its result appropriately\n",
    "def have_baby():\n",
    "    single_child = np.random.randint(1,101)\n",
    "    if (single_child <= 50):\n",
    "        return \"Boy\"\n",
    "    else:\n",
    "        return \"Girl\"\n",
    "print(have_baby())"
   ]
  },
  {
   "cell_type": "markdown",
   "metadata": {},
   "source": [
    "### Full Simulation\n",
    "* Make sure you simulate a large number of trials!"
   ]
  },
  {
   "cell_type": "code",
   "execution_count": 87,
   "metadata": {},
   "outputs": [
    {
     "name": "stdout",
     "output_type": "stream",
     "text": [
      "(4, 0, 4)\n"
     ]
    }
   ],
   "source": [
    "# Run your single trial a large number of times\n",
    "# Record your data in an array\n",
    "def have_children():\n",
    "    import numpy as np \n",
    "\n",
    "    boy_born = 0\n",
    "    girl_born = 0\n",
    "    babys_born = 0\n",
    "\n",
    "    while girl_born == 0:\n",
    "        baby_born = have_baby()\n",
    "        if baby_born == \"Boy\":\n",
    "            boy_born = boy_born + 1\n",
    "            babys_born = babys_born + 1\n",
    "            \n",
    "            if girl_born >= 1 or babys_born >= 4:\n",
    "                return(boy_born,girl_born,babys_born)\n",
    "        else:\n",
    "            girl_born = girl_born + 1\n",
    "            babys_born = babys_born + 1\n",
    "\n",
    "            if girl_born >= 1 or babys_born >= 4:\n",
    "                return(boy_born,girl_born,babys_born)\n",
    "\n",
    "print(have_children())"
   ]
  },
  {
   "cell_type": "markdown",
   "metadata": {},
   "source": [
    "### Calculate the Results"
   ]
  },
  {
   "cell_type": "code",
   "execution_count": 94,
   "metadata": {},
   "outputs": [
    {
     "name": "stdout",
     "output_type": "stream",
     "text": [
      "[(2, 1, 3), (1, 1, 2), (2, 1, 3), (0, 1, 1), (0, 1, 1), (1, 1, 2), (1, 1, 2), (1, 1, 2), (0, 1, 1), (1, 1, 2), (4, 0, 4), (0, 1, 1), (0, 1, 1), (0, 1, 1), (1, 1, 2), (0, 1, 1), (1, 1, 2), (2, 1, 3), (1, 1, 2), (1, 1, 2), (0, 1, 1), (2, 1, 3), (0, 1, 1), (0, 1, 1), (1, 1, 2), (0, 1, 1), (2, 1, 3), (0, 1, 1), (1, 1, 2), (4, 0, 4), (2, 1, 3), (0, 1, 1), (0, 1, 1), (4, 0, 4), (3, 1, 4), (1, 1, 2), (0, 1, 1), (1, 1, 2), (0, 1, 1), (1, 1, 2), (1, 1, 2), (1, 1, 2), (1, 1, 2), (4, 0, 4), (2, 1, 3), (0, 1, 1), (0, 1, 1), (1, 1, 2), (2, 1, 3), (0, 1, 1), (0, 1, 1), (1, 1, 2), (2, 1, 3), (0, 1, 1), (1, 1, 2), (0, 1, 1), (1, 1, 2), (1, 1, 2), (0, 1, 1), (1, 1, 2), (4, 0, 4), (0, 1, 1), (1, 1, 2), (1, 1, 2), (0, 1, 1), (1, 1, 2), (0, 1, 1), (1, 1, 2), (0, 1, 1), (0, 1, 1), (0, 1, 1), (4, 0, 4), (0, 1, 1), (1, 1, 2), (2, 1, 3), (0, 1, 1), (0, 1, 1), (2, 1, 3), (4, 0, 4), (0, 1, 1), (0, 1, 1), (0, 1, 1), (1, 1, 2), (1, 1, 2), (0, 1, 1), (2, 1, 3), (0, 1, 1), (3, 1, 4), (0, 1, 1), (0, 1, 1), (0, 1, 1), (0, 1, 1), (0, 1, 1), (2, 1, 3), (4, 0, 4), (0, 1, 1), (0, 1, 1), (0, 1, 1), (0, 1, 1), (0, 1, 1)]\n",
      "[8, 92]\n"
     ]
    }
   ],
   "source": [
    "# Using the results array, grab appropriate data and perform the necessary calculations\n",
    "babys_born_results = []\n",
    "\n",
    "girls = 0\n",
    "boys = 0\n",
    "girls_and_boys_array = []\n",
    "\n",
    "for i in range(100):\n",
    "    babys_born_results.append(have_children())\n",
    "    if babys_born_results[i] == (4,0,4):\n",
    "        boys = boys + 1\n",
    "    else:\n",
    "        girls = girls + 1\n",
    "girls_and_boys_array = [boys,girls]\n",
    "print(babys_born_results)\n",
    "print(girls_and_boys_array)"
   ]
  },
  {
   "cell_type": "markdown",
   "metadata": {},
   "source": [
    "### Display the Results"
   ]
  },
  {
   "cell_type": "code",
   "execution_count": 95,
   "metadata": {},
   "outputs": [
    {
     "data": {
      "image/png": "[encoded data removed]",
      "text/plain": [
       "<Figure size 432x288 with 1 Axes>"
      ]
     },
     "metadata": {},
     "output_type": "display_data"
    }
   ],
   "source": [
    "# Graphically display results related directly to your question\n",
    "import matplotlib.pyplot as plt\n",
    "%matplotlib inline \n",
    "labels = [\"Boys\", \"Girls\"]\n",
    "\n",
    "explode = (0, 0)\n",
    "\n",
    "fig1,ax1 = plt.subplots()\n",
    "\n",
    "ax1.pie(girls_and_boys_array, explode, labels, autopct='%1.1f%%', startangle=90)\n",
    "ax1.axis('equal')\n",
    "\n",
    "plt.show()"
   ]
  },
  {
   "cell_type": "markdown",
   "metadata": {},
   "source": [
    "### Answer"
   ]
  },
  {
   "cell_type": "markdown",
   "metadata": {},
   "source": [
    "There is a 92% chance they will have a girl because out of 100 times of running the program 92 times they have a girl and sometimes some boys and the 8% is having no girls only boys"
   ]
  },
  {
   "cell_type": "markdown",
   "metadata": {},
   "source": [
    "### Additional Question\n",
    "Out of 100 times how many times do they get 3 boys and 1 girl?"
   ]
  },
  {
   "cell_type": "markdown",
   "metadata": {},
   "source": [
    "### Calculate the Results"
   ]
  },
  {
   "cell_type": "code",
   "execution_count": 114,
   "metadata": {},
   "outputs": [
    {
     "name": "stdout",
     "output_type": "stream",
     "text": [
      "[(3, 1, 4), (3, 1, 4), (1, 1, 2), (0, 1, 1), (4, 0, 4), (1, 1, 2), (0, 1, 1), (0, 1, 1), (1, 1, 2), (1, 1, 2), (0, 1, 1), (1, 1, 2), (0, 1, 1), (0, 1, 1), (0, 1, 1), (3, 1, 4), (0, 1, 1), (3, 1, 4), (0, 1, 1), (0, 1, 1), (0, 1, 1), (0, 1, 1), (3, 1, 4), (2, 1, 3), (4, 0, 4), (0, 1, 1), (1, 1, 2), (0, 1, 1), (1, 1, 2), (0, 1, 1), (0, 1, 1), (0, 1, 1), (0, 1, 1), (1, 1, 2), (0, 1, 1), (4, 0, 4), (1, 1, 2), (0, 1, 1), (0, 1, 1), (0, 1, 1), (0, 1, 1), (0, 1, 1), (0, 1, 1), (1, 1, 2), (1, 1, 2), (3, 1, 4), (0, 1, 1), (1, 1, 2), (0, 1, 1), (0, 1, 1), (0, 1, 1), (1, 1, 2), (0, 1, 1), (1, 1, 2), (1, 1, 2), (2, 1, 3), (0, 1, 1), (0, 1, 1), (0, 1, 1), (0, 1, 1), (2, 1, 3), (0, 1, 1), (0, 1, 1), (2, 1, 3), (1, 1, 2), (0, 1, 1), (2, 1, 3), (0, 1, 1), (0, 1, 1), (0, 1, 1), (0, 1, 1), (0, 1, 1), (1, 1, 2), (0, 1, 1), (0, 1, 1), (2, 1, 3), (0, 1, 1), (0, 1, 1), (0, 1, 1), (0, 1, 1), (1, 1, 2), (1, 1, 2), (2, 1, 3), (0, 1, 1), (0, 1, 1), (0, 1, 1), (0, 1, 1), (1, 1, 2), (1, 1, 2), (0, 1, 1), (1, 1, 2), (1, 1, 2), (3, 1, 4), (0, 1, 1), (4, 0, 4), (0, 1, 1), (0, 1, 1), (0, 1, 1), (0, 1, 1), (0, 1, 1)]\n",
      "[7, 93]\n"
     ]
    }
   ],
   "source": [
    "# Using the results array, grab appropriate data and perform the necessary calculations\n",
    "babys_born_results = []\n",
    "\n",
    "four_children = 0\n",
    "no_four_children = 0\n",
    "children_array = []\n",
    "\n",
    "for i in range(100):        \n",
    "        babys_born_results.append(have_children())\n",
    "        if babys_born_results[i] == (3,1,4):\n",
    "            four_children = four_children + 1\n",
    "        else:\n",
    "            no_four_children = no_four_children + 1\n",
    "children_array = [four_children,no_four_children]\n",
    "print(babys_born_results)\n",
    "print(children_array)"
   ]
  },
  {
   "cell_type": "markdown",
   "metadata": {},
   "source": [
    "### Display the Results "
   ]
  },
  {
   "cell_type": "code",
   "execution_count": 115,
   "metadata": {},
   "outputs": [
    {
     "data": {
      "image/png": "[encoded data removed]",
      "text/plain": [
       "<Figure size 432x288 with 1 Axes>"
      ]
     },
     "metadata": {},
     "output_type": "display_data"
    }
   ],
   "source": [
    "# Graphically display results related directly to your question\n",
    "# Graphically display results related directly to your question\n",
    "import matplotlib.pyplot as plt\n",
    "%matplotlib inline \n",
    "labels = [\"4 Children\", \"Not 4 Children\"]\n",
    "\n",
    "explode = (0, 0)\n",
    "\n",
    "fig1,ax1 = plt.subplots()\n",
    "\n",
    "ax1.pie(children_array, explode, labels, autopct='%1.1f%%', startangle=90)\n",
    "ax1.axis('equal')\n",
    "\n",
    "plt.show()"
   ]
  },
  {
   "cell_type": "code",
   "execution_count": null,
   "metadata": {},
   "outputs": [],
   "source": []
  }
 ],
 "metadata": {
  "kernelspec": {
   "display_name": "Python 3",
   "language": "python",
   "name": "python3"
  },
  "language_info": {
   "codemirror_mode": {
    "name": "ipython",
    "version": 3
   },
   "file_extension": ".py",
   "mimetype": "text/x-python",
   "name": "python",
   "nbconvert_exporter": "python",
   "pygments_lexer": "ipython3",
   "version": "3.7.1"
  }
 },
 "nbformat": 4,
 "nbformat_minor": 2
}
