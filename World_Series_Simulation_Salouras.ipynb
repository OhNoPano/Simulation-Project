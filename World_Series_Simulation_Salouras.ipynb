{
 "cells": [
  {
   "cell_type": "markdown",
   "metadata": {},
   "source": [
    "# Baseball World Series Simulation\n",
    "## On average, how many games (out of 7) does it take for a team to win the World Series?\n",
    "* An American League (AL) baseball team is considered to have a 60% chance of beating the National League (NL) team in any given World Series game. A team wins the World Series by being the first to win four individual games.\n",
    "\n",
    "* Model: How we are encoding our question as numbers\n",
    "* Trial: A single World Series result\n",
    "* Simulation: A collection of many trials"
   ]
  },
  {
   "cell_type": "markdown",
   "metadata": {},
   "source": [
    "### Simulating a single game\n",
    "* Model: Generate a random integer between 1 and 100 to simulate an individual game\n",
    " * #'s 1-60 will represent an American League (AL) team win\n",
    "   * 60% chance to win\n",
    " * #'s 61-100 will represent a National League (NL) team win \n",
    "   * 40% chance to win"
   ]
  },
  {
   "cell_type": "code",
   "execution_count": 2,
   "metadata": {},
   "outputs": [
    {
     "name": "stdout",
     "output_type": "stream",
     "text": [
      "AL Wins\n"
     ]
    }
   ],
   "source": [
    "# Import the numpy package\n",
    "import numpy as np\n",
    "\n",
    "# Generate random number between 1-100\n",
    "single_game = np.random.randint(1,101) # THIS IS NOT A TRIAL YET\n",
    "\n",
    "# Test the percentage ranges\n",
    "if (single_game <=60):\n",
    "    print(\"AL Wins\")\n",
    "else:\n",
    "    print(\"NL Wins\")"
   ]
  },
  {
   "cell_type": "markdown",
   "metadata": {},
   "source": [
    "#### Copy and paste code into a function\n",
    "* Return a String of the winning division\n",
    "* Abstraction!"
   ]
  },
  {
   "cell_type": "code",
   "execution_count": 6,
   "metadata": {},
   "outputs": [
    {
     "name": "stdout",
     "output_type": "stream",
     "text": [
      "AL\n"
     ]
    }
   ],
   "source": [
    "# Create function to simulate a single game\n",
    "def play_single_game():\n",
    "    single_game = np.random.randint(1,101)\n",
    "    if (single_game <= 60):\n",
    "        return \"AL\"\n",
    "    else:\n",
    "        return \"NL\"\n",
    "print(play_single_game())"
   ]
  },
  {
   "cell_type": "markdown",
   "metadata": {},
   "source": [
    "### Simulating a single World Series\n",
    "* Create two variables for AL and NL win counts\n",
    "* While both counts are below 4 wins, play a single game\n",
    "  * Update variables appropriately\n",
    "* Return a tuple in the form (total games played, winning division)"
   ]
  },
  {
   "cell_type": "code",
   "execution_count": 4,
   "metadata": {},
   "outputs": [
    {
     "name": "stdout",
     "output_type": "stream",
     "text": [
      "AL 4\n"
     ]
    }
   ],
   "source": [
    "# Import the numpy package\n",
    "import numpy as np\n",
    "\n",
    "# Create variables\n",
    "nl_wins = 0\n",
    "al_wins = 0\n",
    "        \n",
    "# While loop\n",
    "while nl_wins < 4 and al_wins < 4:\n",
    "    wsg = play_single_game()\n",
    "    if wsg == \"AL\":\n",
    "        al_wins = al_wins + 1\n",
    "    else:\n",
    "        nl_wins = nl_wins + 1\n",
    "\n",
    "# Total games played before a division reached four wins\n",
    "total_num_games = al_wins + nl_wins\n",
    "\n",
    "# Print winner and games\n",
    "if al_wins == 4:\n",
    "    print(\"AL\", total_num_games)\n",
    "else:\n",
    "    print(\"NL\", total_num_games)"
   ]
  },
  {
   "cell_type": "markdown",
   "metadata": {},
   "source": [
    "The above block of code is a single \"trial\" of our simulation"
   ]
  },
  {
   "cell_type": "markdown",
   "metadata": {},
   "source": [
    "#### Copy and paste code into a function\n",
    "* Return a tuple in the format (winning division, total number of games played)\n",
    "* Abstraction!"
   ]
  },
  {
   "cell_type": "code",
   "execution_count": 5,
   "metadata": {},
   "outputs": [
    {
     "name": "stdout",
     "output_type": "stream",
     "text": [
      "('AL', 5)\n"
     ]
    }
   ],
   "source": [
    "# Create function to simulate a World Series\n",
    "def play_world_series():\n",
    "    # Import the numpy package\n",
    "    import numpy as np\n",
    "\n",
    "    # Create variables\n",
    "    nl_wins = 0\n",
    "    al_wins = 0\n",
    "\n",
    "    # While loop\n",
    "    while nl_wins < 4 and al_wins < 4:\n",
    "        wsg = play_single_game()\n",
    "        if wsg == \"AL\":\n",
    "            al_wins = al_wins + 1\n",
    "        else:\n",
    "            nl_wins = nl_wins + 1\n",
    "\n",
    "    # Total games played before a division reached four wins\n",
    "    total_num_games = al_wins + nl_wins\n",
    "\n",
    "    # Print winner and games\n",
    "    if al_wins == 4:\n",
    "        return(\"AL\", total_num_games)\n",
    "    else:\n",
    "        return(\"NL\", total_num_games)\n",
    "    \n",
    "print(play_world_series())"
   ]
  },
  {
   "cell_type": "markdown",
   "metadata": {},
   "source": [
    "### Finding the average number of total games played to win a World Series\n",
    "#### Simulate a large number of World Series, analyze the results\n",
    "* Create an array to hold your results\n",
    "* Create a loop to run 1000 times\n",
    "    * Add results of a single World Series to the array"
   ]
  },
  {
   "cell_type": "code",
   "execution_count": 5,
   "metadata": {},
   "outputs": [
    {
     "name": "stdout",
     "output_type": "stream",
     "text": [
      "[('AL', 6), ('AL', 6), ('AL', 7), ('AL', 5), ('NL', 7), ('NL', 5), ('AL', 6), ('AL', 7), ('NL', 7), ('AL', 7), ('AL', 5), ('NL', 6), ('NL', 6), ('AL', 4), ('AL', 5), ('NL', 7), ('AL', 7), ('AL', 4), ('NL', 7), ('AL', 4), ('AL', 4), ('NL', 7), ('AL', 6), ('AL', 4), ('AL', 5), ('NL', 6), ('AL', 6), ('NL', 7), ('AL', 4), ('AL', 7), ('AL', 7), ('NL', 7), ('AL', 5), ('AL', 7), ('NL', 5), ('NL', 6), ('AL', 5), ('AL', 7), ('AL', 7), ('NL', 7), ('NL', 6), ('AL', 6), ('AL', 4), ('AL', 5), ('AL', 4), ('AL', 7), ('AL', 7), ('NL', 7), ('AL', 5), ('AL', 6), ('NL', 7), ('AL', 5), ('AL', 5), ('NL', 7), ('NL', 5), ('AL', 7), ('AL', 7), ('NL', 7), ('AL', 6), ('AL', 5), ('NL', 6), ('AL', 5), ('AL', 7), ('AL', 4), ('NL', 4), ('NL', 6), ('AL', 5), ('AL', 6), ('AL', 6), ('AL', 6), ('AL', 5), ('AL', 5), ('AL', 6), ('AL', 4), ('AL', 6), ('NL', 5), ('AL', 6), ('AL', 4), ('AL', 5), ('AL', 7), ('NL', 7), ('NL', 5), ('AL', 6), ('AL', 5), ('NL', 4), ('AL', 4), ('AL', 5), ('AL', 7), ('AL', 7), ('AL', 4), ('AL', 5), ('AL', 4), ('NL', 5), ('NL', 7), ('AL', 6), ('AL', 4), ('AL', 6), ('AL', 7), ('AL', 6), ('AL', 6), ('AL', 4), ('NL', 7), ('AL', 5), ('NL', 5), ('AL', 7), ('NL', 7), ('AL', 6), ('AL', 7), ('AL', 7), ('NL', 7), ('NL', 7), ('AL', 4), ('AL', 4), ('NL', 5), ('AL', 7), ('AL', 6), ('AL', 5), ('NL', 7), ('AL', 7), ('AL', 5), ('AL', 7), ('NL', 7), ('AL', 4), ('AL', 5), ('AL', 7), ('AL', 4), ('AL', 6), ('NL', 7), ('AL', 7), ('AL', 6), ('AL', 5), ('NL', 5), ('NL', 5), ('AL', 6), ('NL', 7), ('NL', 6), ('NL', 7), ('AL', 6), ('NL', 4), ('NL', 7), ('AL', 6), ('NL', 6), ('AL', 7), ('NL', 5), ('AL', 5), ('NL', 5), ('AL', 5), ('AL', 7), ('AL', 5), ('NL', 6), ('AL', 5), ('NL', 7), ('AL', 5), ('AL', 7), ('NL', 6), ('AL', 6), ('AL', 7), ('NL', 7), ('AL', 6), ('AL', 5), ('AL', 7), ('AL', 6), ('NL', 5), ('AL', 6), ('AL', 7), ('AL', 6), ('AL', 6), ('AL', 7), ('AL', 5), ('AL', 7), ('AL', 7), ('AL', 5), ('NL', 7), ('AL', 5), ('AL', 5), ('NL', 6), ('AL', 5), ('AL', 6), ('AL', 5), ('AL', 6), ('AL', 7), ('NL', 5), ('NL', 6), ('AL', 7), ('NL', 5), ('AL', 6), ('AL', 4), ('AL', 7), ('AL', 5), ('NL', 7), ('AL', 7), ('NL', 7), ('AL', 7), ('NL', 6), ('AL', 6), ('AL', 7), ('AL', 6), ('AL', 5), ('NL', 7), ('NL', 7), ('AL', 5), ('NL', 7), ('AL', 6), ('AL', 5), ('AL', 5), ('AL', 6), ('AL', 4), ('AL', 5), ('AL', 4), ('NL', 5), ('NL', 6), ('AL', 7), ('AL', 6), ('AL', 6), ('AL', 4), ('AL', 7), ('AL', 7), ('AL', 4), ('AL', 7), ('NL', 5), ('AL', 5), ('AL', 6), ('NL', 5), ('NL', 7), ('AL', 6), ('AL', 4), ('AL', 6), ('AL', 5), ('AL', 7), ('AL', 6), ('AL', 6), ('AL', 6), ('AL', 5), ('AL', 4), ('NL', 4), ('AL', 5), ('NL', 7), ('AL', 6), ('NL', 7), ('NL', 7), ('NL', 5), ('AL', 6), ('NL', 7), ('AL', 4), ('AL', 6), ('AL', 5), ('AL', 5), ('AL', 7), ('AL', 5), ('AL', 5), ('AL', 4), ('AL', 6), ('AL', 7), ('AL', 7), ('NL', 4), ('AL', 5), ('AL', 7), ('AL', 7), ('AL', 6), ('AL', 6), ('AL', 6), ('NL', 5), ('AL', 4), ('AL', 6), ('AL', 6), ('NL', 6), ('NL', 6), ('NL', 6), ('NL', 5), ('AL', 6), ('NL', 7), ('AL', 6), ('NL', 7), ('NL', 6), ('AL', 6), ('NL', 6), ('AL', 5), ('AL', 6), ('AL', 6), ('AL', 7), ('AL', 6), ('NL', 7), ('AL', 4), ('AL', 5), ('AL', 7), ('AL', 4), ('AL', 6), ('AL', 7), ('NL', 7), ('AL', 7), ('NL', 7), ('NL', 7), ('NL', 4), ('NL', 5), ('AL', 6), ('NL', 6), ('AL', 5), ('AL', 4), ('AL', 5), ('NL', 7), ('AL', 4), ('AL', 5), ('NL', 7), ('AL', 7), ('AL', 6), ('NL', 6), ('AL', 5), ('AL', 7), ('AL', 6), ('NL', 7), ('AL', 6), ('AL', 4), ('NL', 5), ('AL', 5), ('AL', 4), ('AL', 5), ('AL', 4), ('NL', 7), ('AL', 6), ('NL', 5), ('AL', 4), ('NL', 7), ('AL', 6), ('NL', 5), ('AL', 5), ('AL', 5), ('AL', 4), ('AL', 6), ('NL', 6), ('NL', 6), ('NL', 7), ('AL', 6), ('AL', 7), ('AL', 5), ('AL', 6), ('NL', 7), ('AL', 7), ('NL', 5), ('AL', 5), ('AL', 5), ('AL', 6), ('AL', 5), ('NL', 7), ('AL', 5), ('AL', 7), ('AL', 7), ('AL', 6), ('AL', 5), ('NL', 4), ('AL', 7), ('AL', 6), ('AL', 4), ('AL', 6), ('AL', 5), ('AL', 5), ('NL', 5), ('AL', 7), ('AL', 7), ('AL', 7), ('AL', 6), ('AL', 5), ('AL', 4), ('NL', 5), ('AL', 5), ('AL', 6), ('AL', 5), ('NL', 6), ('AL', 4), ('AL', 7), ('AL', 7), ('NL', 7), ('NL', 7), ('NL', 7), ('AL', 5), ('AL', 6), ('AL', 7), ('NL', 6), ('AL', 5), ('AL', 7), ('AL', 5), ('AL', 7), ('NL', 6), ('AL', 7), ('AL', 4), ('NL', 6), ('AL', 5), ('AL', 4), ('AL', 5), ('NL', 7), ('AL', 5), ('AL', 7), ('AL', 4), ('AL', 4), ('NL', 7), ('NL', 6), ('AL', 5), ('AL', 5), ('NL', 7), ('AL', 6), ('AL', 5), ('NL', 5), ('NL', 7), ('NL', 5), ('NL', 4), ('NL', 7), ('NL', 7), ('AL', 6), ('NL', 7), ('NL', 7), ('NL', 7), ('NL', 5), ('NL', 7), ('AL', 5), ('NL', 7), ('NL', 6), ('AL', 5), ('NL', 7), ('NL', 5), ('AL', 6), ('AL', 4), ('NL', 5), ('NL', 4), ('NL', 7), ('NL', 4), ('AL', 4), ('AL', 6), ('NL', 6), ('NL', 7), ('AL', 6), ('NL', 6), ('AL', 5), ('NL', 6), ('AL', 4), ('NL', 5), ('AL', 4), ('AL', 5), ('AL', 6), ('NL', 6), ('AL', 6), ('NL', 5), ('AL', 6), ('AL', 7), ('AL', 7), ('AL', 6), ('NL', 5), ('NL', 6), ('AL', 4), ('NL', 6), ('AL', 4), ('AL', 5), ('AL', 7), ('AL', 6), ('AL', 6), ('AL', 7), ('AL', 5), ('AL', 5), ('AL', 6), ('NL', 6), ('AL', 5), ('NL', 7), ('AL', 5), ('NL', 5), ('AL', 5), ('AL', 7), ('AL', 7), ('AL', 6), ('NL', 6), ('AL', 5), ('AL', 6), ('NL', 7), ('AL', 7), ('AL', 6), ('NL', 7), ('AL', 5), ('AL', 4), ('AL', 7), ('AL', 5), ('AL', 5), ('AL', 5), ('NL', 5), ('AL', 6), ('NL', 7), ('NL', 7), ('AL', 5), ('NL', 4), ('AL', 5), ('AL', 6), ('AL', 7), ('AL', 5), ('AL', 6), ('NL', 6), ('NL', 7), ('AL', 4), ('AL', 5), ('AL', 7), ('AL', 6), ('AL', 7), ('AL', 7), ('AL', 5), ('AL', 6), ('AL', 5), ('AL', 5), ('AL', 6), ('NL', 4), ('AL', 5), ('AL', 4), ('AL', 5), ('AL', 5), ('AL', 6), ('AL', 5), ('AL', 6), ('NL', 6), ('AL', 5), ('NL', 7), ('AL', 7), ('AL', 5), ('AL', 6), ('AL', 4), ('AL', 6), ('AL', 4), ('AL', 6), ('NL', 6), ('AL', 5), ('NL', 7), ('AL', 6), ('AL', 4), ('AL', 7), ('AL', 7), ('AL', 6), ('NL', 4), ('AL', 6), ('NL', 6), ('AL', 6), ('NL', 4), ('AL', 6), ('NL', 7), ('AL', 6), ('NL', 7), ('AL', 5), ('AL', 4), ('AL', 6), ('AL', 4), ('AL', 4), ('AL', 7), ('NL', 5), ('AL', 7), ('AL', 4), ('NL', 6), ('AL', 5), ('AL', 5), ('NL', 5), ('AL', 6), ('AL', 5), ('AL', 6), ('AL', 6), ('NL', 5), ('AL', 5), ('NL', 7), ('NL', 6), ('AL', 6), ('AL', 4), ('AL', 4), ('NL', 6), ('NL', 5), ('NL', 7), ('AL', 4), ('NL', 7), ('AL', 7), ('AL', 6), ('AL', 7), ('AL', 6), ('AL', 6), ('AL', 5), ('NL', 6), ('AL', 6), ('AL', 6), ('AL', 5), ('AL', 5), ('NL', 4), ('AL', 6), ('NL', 6), ('AL', 6), ('NL', 4), ('AL', 5), ('NL', 5), ('AL', 6), ('AL', 7), ('NL', 5), ('AL', 7), ('AL', 7), ('AL', 7), ('AL', 5), ('NL', 6), ('AL', 5), ('AL', 5), ('AL', 6), ('NL', 7), ('AL', 7), ('AL', 5), ('AL', 5), ('AL', 4), ('AL', 7), ('NL', 7), ('AL', 4), ('AL', 5), ('NL', 6), ('NL', 7), ('AL', 4), ('AL', 6), ('NL', 7), ('AL', 6), ('NL', 6), ('AL', 7), ('NL', 5), ('AL', 7), ('NL', 7), ('NL', 7), ('NL', 5), ('AL', 7), ('AL', 7), ('AL', 7), ('AL', 6), ('AL', 7), ('AL', 7), ('AL', 4), ('AL', 5), ('AL', 7), ('NL', 6), ('AL', 6), ('NL', 7), ('AL', 6), ('AL', 7), ('AL', 7), ('AL', 6), ('AL', 4), ('AL', 6), ('AL', 7), ('NL', 5), ('AL', 4), ('NL', 5), ('AL', 6), ('NL', 7), ('AL', 5), ('NL', 5), ('AL', 7), ('NL', 4), ('AL', 7), ('AL', 7), ('AL', 6), ('NL', 7), ('NL', 6), ('AL', 5), ('AL', 5), ('AL', 5), ('AL', 6), ('AL', 4), ('NL', 6), ('NL', 4), ('AL', 6), ('AL', 7), ('NL', 7), ('NL', 6), ('AL', 7), ('AL', 5), ('AL', 5), ('AL', 4), ('NL', 5), ('AL', 5), ('AL', 6), ('AL', 6), ('AL', 4), ('AL', 4), ('AL', 4), ('AL', 7), ('AL', 5), ('AL', 5), ('NL', 6), ('AL', 6), ('AL', 4), ('AL', 4), ('NL', 5), ('NL', 7), ('NL', 7), ('AL', 5), ('AL', 5), ('AL', 6), ('AL', 5), ('AL', 7), ('NL', 7), ('AL', 4), ('AL', 5), ('AL', 7), ('AL', 6), ('AL', 6), ('AL', 5), ('NL', 6), ('AL', 5), ('NL', 7), ('NL', 5), ('AL', 6), ('AL', 5), ('AL', 5), ('AL', 5), ('AL', 6), ('AL', 5), ('AL', 6), ('NL', 4), ('NL', 7), ('AL', 6), ('NL', 6), ('AL', 7), ('AL', 5), ('NL', 5), ('AL', 5), ('AL', 7), ('AL', 5), ('AL', 4), ('AL', 6), ('AL', 5), ('AL', 4), ('AL', 5), ('AL', 5), ('AL', 5), ('AL', 5), ('NL', 7), ('AL', 6), ('AL', 6), ('AL', 7), ('AL', 5), ('AL', 4), ('AL', 5), ('NL', 5), ('AL', 6), ('NL', 6), ('AL', 4), ('AL', 6), ('AL', 5), ('NL', 6), ('AL', 4), ('AL', 6), ('AL', 5), ('NL', 7), ('AL', 4), ('AL', 5), ('AL', 7), ('AL', 7), ('AL', 7), ('AL', 7), ('NL', 6), ('NL', 4), ('AL', 6), ('NL', 4), ('NL', 7), ('AL', 5), ('NL', 7), ('AL', 6), ('AL', 6), ('NL', 6), ('NL', 6), ('AL', 7), ('NL', 7), ('AL', 5), ('AL', 6), ('AL', 5), ('NL', 7), ('AL', 5), ('AL', 4), ('AL', 6), ('NL', 5), ('AL', 4), ('AL', 4), ('NL', 7), ('AL', 6), ('AL', 7), ('AL', 7), ('NL', 5), ('AL', 6), ('NL', 6), ('AL', 6), ('NL', 7), ('AL', 6), ('NL', 6), ('AL', 5), ('AL', 5), ('AL', 6), ('AL', 7), ('NL', 6), ('NL', 6), ('AL', 7), ('AL', 6), ('AL', 5), ('NL', 7), ('AL', 5), ('AL', 5), ('AL', 6), ('AL', 6), ('NL', 4), ('AL', 6), ('AL', 6), ('AL', 5), ('AL', 7), ('NL', 7), ('AL', 5), ('NL', 5), ('AL', 6), ('AL', 5), ('NL', 7), ('AL', 6), ('AL', 4), ('NL', 6), ('AL', 6), ('AL', 7), ('AL', 4), ('AL', 5), ('NL', 6), ('AL', 6), ('AL', 6), ('NL', 6), ('AL', 5), ('AL', 5), ('AL', 6), ('AL', 5), ('AL', 6), ('AL', 7), ('AL', 6), ('AL', 6), ('AL', 5), ('AL', 7), ('NL', 7), ('AL', 7), ('NL', 7), ('NL', 7), ('NL', 6), ('AL', 6), ('NL', 5), ('NL', 7), ('AL', 7), ('AL', 7), ('AL', 6), ('AL', 7), ('AL', 7), ('NL', 5), ('AL', 4), ('NL', 7), ('AL', 5), ('AL', 7), ('NL', 5), ('AL', 6), ('AL', 7), ('AL', 6), ('AL', 7), ('NL', 7), ('AL', 6), ('AL', 6), ('AL', 6), ('AL', 7), ('NL', 7), ('AL', 4), ('AL', 7), ('AL', 5), ('AL', 6), ('NL', 6), ('AL', 5), ('AL', 7), ('NL', 7), ('NL', 6), ('AL', 5), ('AL', 7), ('AL', 7), ('AL', 6), ('NL', 6), ('NL', 7), ('AL', 6), ('AL', 5), ('AL', 7), ('AL', 6), ('AL', 5), ('AL', 4), ('AL', 5), ('NL', 6), ('AL', 5), ('AL', 6), ('AL', 6), ('AL', 5), ('AL', 4), ('AL', 6), ('NL', 5), ('NL', 5), ('AL', 4), ('AL', 6), ('NL', 7), ('AL', 5), ('AL', 7), ('AL', 6), ('AL', 4), ('AL', 7), ('AL', 6), ('AL', 6), ('AL', 5), ('AL', 5), ('AL', 4), ('AL', 5), ('NL', 6), ('AL', 7), ('AL', 7), ('NL', 7), ('AL', 6), ('NL', 6), ('NL', 7), ('AL', 4), ('AL', 7), ('AL', 7), ('AL', 6), ('AL', 6), ('NL', 5), ('AL', 5), ('AL', 4), ('AL', 4), ('AL', 7), ('NL', 6), ('AL', 6), ('AL', 6), ('AL', 4), ('AL', 5), ('NL', 7), ('AL', 7), ('AL', 7), ('AL', 5), ('AL', 5), ('NL', 7), ('AL', 7), ('NL', 4), ('NL', 6), ('AL', 6), ('AL', 5), ('AL', 7), ('AL', 7), ('AL', 5), ('AL', 6), ('AL', 7), ('AL', 7), ('AL', 7), ('AL', 5), ('NL', 6), ('AL', 7), ('AL', 7), ('AL', 5), ('AL', 4), ('NL', 5), ('NL', 7), ('AL', 4), ('AL', 6), ('AL', 7), ('AL', 6), ('NL', 7), ('AL', 6), ('AL', 6), ('AL', 7), ('AL', 7), ('AL', 5), ('AL', 5), ('AL', 5), ('AL', 5), ('AL', 5), ('NL', 5), ('AL', 6), ('NL', 7), ('NL', 7), ('AL', 5), ('AL', 5), ('NL', 7), ('AL', 6), ('NL', 7), ('AL', 7), ('AL', 5), ('NL', 5), ('AL', 7), ('NL', 4), ('NL', 7), ('AL', 4), ('AL', 5), ('AL', 7), ('NL', 6), ('AL', 5), ('AL', 6), ('AL', 6), ('NL', 7), ('AL', 6), ('AL', 7), ('NL', 7), ('AL', 7), ('NL', 4), ('AL', 5), ('AL', 5), ('AL', 4), ('NL', 7), ('AL', 5), ('AL', 7), ('NL', 6), ('AL', 4)]\n"
     ]
    }
   ],
   "source": [
    "# Create variables\n",
    "ws_results = []\n",
    "\n",
    "# Create a loop that repeats a large number of trials (World Series), in this case 10,000\n",
    "for i in range(1000):\n",
    "    single_ws = play_world_series()\n",
    "    ws_results.append(single_ws)\n",
    "    \n",
    "# Print the results\n",
    "print(ws_results)"
   ]
  },
  {
   "cell_type": "markdown",
   "metadata": {},
   "source": [
    "### Analyze the results"
   ]
  },
  {
   "cell_type": "markdown",
   "metadata": {},
   "source": [
    "#### Find the counts of each number of total games (How many times did it take 4, 5, 6, 7 games to win?)\n",
    "* Create an array to hold the results\n",
    "* Loop through each tuple, read second value (total games played)\n",
    "* Add the value to array"
   ]
  },
  {
   "cell_type": "code",
   "execution_count": 6,
   "metadata": {},
   "outputs": [
    {
     "name": "stdout",
     "output_type": "stream",
     "text": [
      "[6, 6, 7, 5, 7, 5, 6, 7, 7, 7, 5, 6, 6, 4, 5, 7, 7, 4, 7, 4, 4, 7, 6, 4, 5, 6, 6, 7, 4, 7, 7, 7, 5, 7, 5, 6, 5, 7, 7, 7, 6, 6, 4, 5, 4, 7, 7, 7, 5, 6, 7, 5, 5, 7, 5, 7, 7, 7, 6, 5, 6, 5, 7, 4, 4, 6, 5, 6, 6, 6, 5, 5, 6, 4, 6, 5, 6, 4, 5, 7, 7, 5, 6, 5, 4, 4, 5, 7, 7, 4, 5, 4, 5, 7, 6, 4, 6, 7, 6, 6, 4, 7, 5, 5, 7, 7, 6, 7, 7, 7, 7, 4, 4, 5, 7, 6, 5, 7, 7, 5, 7, 7, 4, 5, 7, 4, 6, 7, 7, 6, 5, 5, 5, 6, 7, 6, 7, 6, 4, 7, 6, 6, 7, 5, 5, 5, 5, 7, 5, 6, 5, 7, 5, 7, 6, 6, 7, 7, 6, 5, 7, 6, 5, 6, 7, 6, 6, 7, 5, 7, 7, 5, 7, 5, 5, 6, 5, 6, 5, 6, 7, 5, 6, 7, 5, 6, 4, 7, 5, 7, 7, 7, 7, 6, 6, 7, 6, 5, 7, 7, 5, 7, 6, 5, 5, 6, 4, 5, 4, 5, 6, 7, 6, 6, 4, 7, 7, 4, 7, 5, 5, 6, 5, 7, 6, 4, 6, 5, 7, 6, 6, 6, 5, 4, 4, 5, 7, 6, 7, 7, 5, 6, 7, 4, 6, 5, 5, 7, 5, 5, 4, 6, 7, 7, 4, 5, 7, 7, 6, 6, 6, 5, 4, 6, 6, 6, 6, 6, 5, 6, 7, 6, 7, 6, 6, 6, 5, 6, 6, 7, 6, 7, 4, 5, 7, 4, 6, 7, 7, 7, 7, 7, 4, 5, 6, 6, 5, 4, 5, 7, 4, 5, 7, 7, 6, 6, 5, 7, 6, 7, 6, 4, 5, 5, 4, 5, 4, 7, 6, 5, 4, 7, 6, 5, 5, 5, 4, 6, 6, 6, 7, 6, 7, 5, 6, 7, 7, 5, 5, 5, 6, 5, 7, 5, 7, 7, 6, 5, 4, 7, 6, 4, 6, 5, 5, 5, 7, 7, 7, 6, 5, 4, 5, 5, 6, 5, 6, 4, 7, 7, 7, 7, 7, 5, 6, 7, 6, 5, 7, 5, 7, 6, 7, 4, 6, 5, 4, 5, 7, 5, 7, 4, 4, 7, 6, 5, 5, 7, 6, 5, 5, 7, 5, 4, 7, 7, 6, 7, 7, 7, 5, 7, 5, 7, 6, 5, 7, 5, 6, 4, 5, 4, 7, 4, 4, 6, 6, 7, 6, 6, 5, 6, 4, 5, 4, 5, 6, 6, 6, 5, 6, 7, 7, 6, 5, 6, 4, 6, 4, 5, 7, 6, 6, 7, 5, 5, 6, 6, 5, 7, 5, 5, 5, 7, 7, 6, 6, 5, 6, 7, 7, 6, 7, 5, 4, 7, 5, 5, 5, 5, 6, 7, 7, 5, 4, 5, 6, 7, 5, 6, 6, 7, 4, 5, 7, 6, 7, 7, 5, 6, 5, 5, 6, 4, 5, 4, 5, 5, 6, 5, 6, 6, 5, 7, 7, 5, 6, 4, 6, 4, 6, 6, 5, 7, 6, 4, 7, 7, 6, 4, 6, 6, 6, 4, 6, 7, 6, 7, 5, 4, 6, 4, 4, 7, 5, 7, 4, 6, 5, 5, 5, 6, 5, 6, 6, 5, 5, 7, 6, 6, 4, 4, 6, 5, 7, 4, 7, 7, 6, 7, 6, 6, 5, 6, 6, 6, 5, 5, 4, 6, 6, 6, 4, 5, 5, 6, 7, 5, 7, 7, 7, 5, 6, 5, 5, 6, 7, 7, 5, 5, 4, 7, 7, 4, 5, 6, 7, 4, 6, 7, 6, 6, 7, 5, 7, 7, 7, 5, 7, 7, 7, 6, 7, 7, 4, 5, 7, 6, 6, 7, 6, 7, 7, 6, 4, 6, 7, 5, 4, 5, 6, 7, 5, 5, 7, 4, 7, 7, 6, 7, 6, 5, 5, 5, 6, 4, 6, 4, 6, 7, 7, 6, 7, 5, 5, 4, 5, 5, 6, 6, 4, 4, 4, 7, 5, 5, 6, 6, 4, 4, 5, 7, 7, 5, 5, 6, 5, 7, 7, 4, 5, 7, 6, 6, 5, 6, 5, 7, 5, 6, 5, 5, 5, 6, 5, 6, 4, 7, 6, 6, 7, 5, 5, 5, 7, 5, 4, 6, 5, 4, 5, 5, 5, 5, 7, 6, 6, 7, 5, 4, 5, 5, 6, 6, 4, 6, 5, 6, 4, 6, 5, 7, 4, 5, 7, 7, 7, 7, 6, 4, 6, 4, 7, 5, 7, 6, 6, 6, 6, 7, 7, 5, 6, 5, 7, 5, 4, 6, 5, 4, 4, 7, 6, 7, 7, 5, 6, 6, 6, 7, 6, 6, 5, 5, 6, 7, 6, 6, 7, 6, 5, 7, 5, 5, 6, 6, 4, 6, 6, 5, 7, 7, 5, 5, 6, 5, 7, 6, 4, 6, 6, 7, 4, 5, 6, 6, 6, 6, 5, 5, 6, 5, 6, 7, 6, 6, 5, 7, 7, 7, 7, 7, 6, 6, 5, 7, 7, 7, 6, 7, 7, 5, 4, 7, 5, 7, 5, 6, 7, 6, 7, 7, 6, 6, 6, 7, 7, 4, 7, 5, 6, 6, 5, 7, 7, 6, 5, 7, 7, 6, 6, 7, 6, 5, 7, 6, 5, 4, 5, 6, 5, 6, 6, 5, 4, 6, 5, 5, 4, 6, 7, 5, 7, 6, 4, 7, 6, 6, 5, 5, 4, 5, 6, 7, 7, 7, 6, 6, 7, 4, 7, 7, 6, 6, 5, 5, 4, 4, 7, 6, 6, 6, 4, 5, 7, 7, 7, 5, 5, 7, 7, 4, 6, 6, 5, 7, 7, 5, 6, 7, 7, 7, 5, 6, 7, 7, 5, 4, 5, 7, 4, 6, 7, 6, 7, 6, 6, 7, 7, 5, 5, 5, 5, 5, 5, 6, 7, 7, 5, 5, 7, 6, 7, 7, 5, 5, 7, 4, 7, 4, 5, 7, 6, 5, 6, 6, 7, 6, 7, 7, 7, 4, 5, 5, 4, 7, 5, 7, 6, 4]\n"
     ]
    }
   ],
   "source": [
    "# Create variables\n",
    "total_games_array = []\n",
    "\n",
    "# Loop through each individual World Series within the ws_results array\n",
    "    # Store second value of the tuple at index 1 (total number of games)\n",
    "    # Add game total to the total_games_array\n",
    "for world_series in ws_results:\n",
    "    game_total = world_series[1]\n",
    "    total_games_array.append(game_total)\n",
    "\n",
    "# Print results\n",
    "print(total_games_array)"
   ]
  },
  {
   "cell_type": "markdown",
   "metadata": {},
   "source": [
    "#### Create bins for each total"
   ]
  },
  {
   "cell_type": "code",
   "execution_count": 7,
   "metadata": {},
   "outputs": [
    {
     "name": "stdout",
     "output_type": "stream",
     "text": [
      "[  0   0   0   0 131 275 291 303]\n"
     ]
    }
   ],
   "source": [
    "# Create the bin\n",
    "game_bin = np.bincount(total_games_array)\n",
    "\n",
    "# Print the results\n",
    "print(game_bin)"
   ]
  },
  {
   "cell_type": "code",
   "execution_count": 8,
   "metadata": {},
   "outputs": [
    {
     "name": "stdout",
     "output_type": "stream",
     "text": [
      "1000\n"
     ]
    }
   ],
   "source": [
    "# Make sure this adds to 1,000!\n",
    "print(np.sum(game_bin))"
   ]
  },
  {
   "cell_type": "markdown",
   "metadata": {},
   "source": [
    "#### Calculate the average of these numbers\n",
    "* This will represent the average number of games played to win the World Series after 10,000 simulations"
   ]
  },
  {
   "cell_type": "code",
   "execution_count": 9,
   "metadata": {},
   "outputs": [
    {
     "name": "stdout",
     "output_type": "stream",
     "text": [
      "5.766\n"
     ]
    }
   ],
   "source": [
    "# Use np.average(array)\n",
    "average = np.average(total_games_array)\n",
    "print(average)"
   ]
  },
  {
   "cell_type": "markdown",
   "metadata": {},
   "source": [
    "### Graph the results"
   ]
  },
  {
   "cell_type": "markdown",
   "metadata": {},
   "source": [
    "#### Histogram\n",
    "* Frequency chart"
   ]
  },
  {
   "cell_type": "code",
   "execution_count": 10,
   "metadata": {},
   "outputs": [
    {
     "data": {
      "image/png": "[encoded data removed]",
      "text/plain": [
       "<Figure size 432x288 with 1 Axes>"
      ]
     },
     "metadata": {},
     "output_type": "display_data"
    }
   ],
   "source": [
    "# Import the library\n",
    "import matplotlib.pyplot as plot\n",
    "%matplotlib inline  \n",
    "# Magic to allow the graph to display directly in this notebook\n",
    "\n",
    "# Create bins/dividers for your data\n",
    "bins = [0, 1, 2, 3, 4, 5, 6, 7, 8]\n",
    "\n",
    "# plot.hist(array, bins, alignment, graph color, border color)\n",
    "plot.hist(total_games_array, bins, align='left', color='lightgreen' ,edgecolor='black')\n",
    "plot.title(\"Average Total Games Played To Win a World Series\")\n",
    "plot.show()"
   ]
  },
  {
   "cell_type": "markdown",
   "metadata": {},
   "source": [
    "#### Pie Chart\n",
    "* Percentage chart"
   ]
  },
  {
   "cell_type": "code",
   "execution_count": 11,
   "metadata": {},
   "outputs": [
    {
     "data": {
      "image/png": "[encoded data removed]",
      "text/plain": [
       "<Figure size 432x288 with 1 Axes>"
      ]
     },
     "metadata": {},
     "output_type": "display_data"
    }
   ],
   "source": [
    "# source: http://matplotlib.org/examples/pie_and_polar_charts/pie_demo_features.html\n",
    "\n",
    "# Import the library\n",
    "import matplotlib.pyplot as plot\n",
    "%matplotlib inline\n",
    "# Magic to allow the graph to display directly in this notebook\n",
    "\n",
    "# Create an array of labels\n",
    "labels = [\"4 Games\", \"5 Games\", \"6 Games\", \"7 Games\"]\n",
    "\n",
    "# Crop the game_bin array to exclude the 0's\n",
    "    # Only need indices 4 to the end\n",
    "game_bin = game_bin[4:]\n",
    "\n",
    "# Explode option\n",
    "    # 'Slices' appear distanced from the center\n",
    "        # Larger numbers = further explosion\n",
    "    # Explode array should be same size as labels and\n",
    "explode = (0, 0, 0, 0)\n",
    "\n",
    "# Use matplotlib module subplots() to get data for various charts\n",
    "    # Returns a tuple in the form (figure,axes)\n",
    "fig1,ax1 = plot.subplots()\n",
    "\n",
    "# Use axes to create a pie chart\n",
    "    # ax1.pie(data array, explode array, labels array, starting angle)\n",
    "ax1.pie(game_bin, explode, labels, autopct='%1.1f%%', startangle=90)\n",
    "ax1.axis('equal')  # Equal aspect ratio ensures that pie is drawn as a circle.\n",
    "\n",
    "plot.show()"
   ]
  },
  {
   "cell_type": "markdown",
   "metadata": {
    "collapsed": true
   },
   "source": [
    "## Additional data points\n",
    "* How many times did an American League team win the World Series compared to the National League?"
   ]
  },
  {
   "cell_type": "code",
   "execution_count": 12,
   "metadata": {},
   "outputs": [
    {
     "name": "stdout",
     "output_type": "stream",
     "text": [
      "['AL', 'AL', 'AL', 'AL', 'NL', 'NL', 'AL', 'AL', 'NL', 'AL', 'AL', 'NL', 'NL', 'AL', 'AL', 'NL', 'AL', 'AL', 'NL', 'AL', 'AL', 'NL', 'AL', 'AL', 'AL', 'NL', 'AL', 'NL', 'AL', 'AL', 'AL', 'NL', 'AL', 'AL', 'NL', 'NL', 'AL', 'AL', 'AL', 'NL', 'NL', 'AL', 'AL', 'AL', 'AL', 'AL', 'AL', 'NL', 'AL', 'AL', 'NL', 'AL', 'AL', 'NL', 'NL', 'AL', 'AL', 'NL', 'AL', 'AL', 'NL', 'AL', 'AL', 'AL', 'NL', 'NL', 'AL', 'AL', 'AL', 'AL', 'AL', 'AL', 'AL', 'AL', 'AL', 'NL', 'AL', 'AL', 'AL', 'AL', 'NL', 'NL', 'AL', 'AL', 'NL', 'AL', 'AL', 'AL', 'AL', 'AL', 'AL', 'AL', 'NL', 'NL', 'AL', 'AL', 'AL', 'AL', 'AL', 'AL', 'AL', 'NL', 'AL', 'NL', 'AL', 'NL', 'AL', 'AL', 'AL', 'NL', 'NL', 'AL', 'AL', 'NL', 'AL', 'AL', 'AL', 'NL', 'AL', 'AL', 'AL', 'NL', 'AL', 'AL', 'AL', 'AL', 'AL', 'NL', 'AL', 'AL', 'AL', 'NL', 'NL', 'AL', 'NL', 'NL', 'NL', 'AL', 'NL', 'NL', 'AL', 'NL', 'AL', 'NL', 'AL', 'NL', 'AL', 'AL', 'AL', 'NL', 'AL', 'NL', 'AL', 'AL', 'NL', 'AL', 'AL', 'NL', 'AL', 'AL', 'AL', 'AL', 'NL', 'AL', 'AL', 'AL', 'AL', 'AL', 'AL', 'AL', 'AL', 'AL', 'NL', 'AL', 'AL', 'NL', 'AL', 'AL', 'AL', 'AL', 'AL', 'NL', 'NL', 'AL', 'NL', 'AL', 'AL', 'AL', 'AL', 'NL', 'AL', 'NL', 'AL', 'NL', 'AL', 'AL', 'AL', 'AL', 'NL', 'NL', 'AL', 'NL', 'AL', 'AL', 'AL', 'AL', 'AL', 'AL', 'AL', 'NL', 'NL', 'AL', 'AL', 'AL', 'AL', 'AL', 'AL', 'AL', 'AL', 'NL', 'AL', 'AL', 'NL', 'NL', 'AL', 'AL', 'AL', 'AL', 'AL', 'AL', 'AL', 'AL', 'AL', 'AL', 'NL', 'AL', 'NL', 'AL', 'NL', 'NL', 'NL', 'AL', 'NL', 'AL', 'AL', 'AL', 'AL', 'AL', 'AL', 'AL', 'AL', 'AL', 'AL', 'AL', 'NL', 'AL', 'AL', 'AL', 'AL', 'AL', 'AL', 'NL', 'AL', 'AL', 'AL', 'NL', 'NL', 'NL', 'NL', 'AL', 'NL', 'AL', 'NL', 'NL', 'AL', 'NL', 'AL', 'AL', 'AL', 'AL', 'AL', 'NL', 'AL', 'AL', 'AL', 'AL', 'AL', 'AL', 'NL', 'AL', 'NL', 'NL', 'NL', 'NL', 'AL', 'NL', 'AL', 'AL', 'AL', 'NL', 'AL', 'AL', 'NL', 'AL', 'AL', 'NL', 'AL', 'AL', 'AL', 'NL', 'AL', 'AL', 'NL', 'AL', 'AL', 'AL', 'AL', 'NL', 'AL', 'NL', 'AL', 'NL', 'AL', 'NL', 'AL', 'AL', 'AL', 'AL', 'NL', 'NL', 'NL', 'AL', 'AL', 'AL', 'AL', 'NL', 'AL', 'NL', 'AL', 'AL', 'AL', 'AL', 'NL', 'AL', 'AL', 'AL', 'AL', 'AL', 'NL', 'AL', 'AL', 'AL', 'AL', 'AL', 'AL', 'NL', 'AL', 'AL', 'AL', 'AL', 'AL', 'AL', 'NL', 'AL', 'AL', 'AL', 'NL', 'AL', 'AL', 'AL', 'NL', 'NL', 'NL', 'AL', 'AL', 'AL', 'NL', 'AL', 'AL', 'AL', 'AL', 'NL', 'AL', 'AL', 'NL', 'AL', 'AL', 'AL', 'NL', 'AL', 'AL', 'AL', 'AL', 'NL', 'NL', 'AL', 'AL', 'NL', 'AL', 'AL', 'NL', 'NL', 'NL', 'NL', 'NL', 'NL', 'AL', 'NL', 'NL', 'NL', 'NL', 'NL', 'AL', 'NL', 'NL', 'AL', 'NL', 'NL', 'AL', 'AL', 'NL', 'NL', 'NL', 'NL', 'AL', 'AL', 'NL', 'NL', 'AL', 'NL', 'AL', 'NL', 'AL', 'NL', 'AL', 'AL', 'AL', 'NL', 'AL', 'NL', 'AL', 'AL', 'AL', 'AL', 'NL', 'NL', 'AL', 'NL', 'AL', 'AL', 'AL', 'AL', 'AL', 'AL', 'AL', 'AL', 'AL', 'NL', 'AL', 'NL', 'AL', 'NL', 'AL', 'AL', 'AL', 'AL', 'NL', 'AL', 'AL', 'NL', 'AL', 'AL', 'NL', 'AL', 'AL', 'AL', 'AL', 'AL', 'AL', 'NL', 'AL', 'NL', 'NL', 'AL', 'NL', 'AL', 'AL', 'AL', 'AL', 'AL', 'NL', 'NL', 'AL', 'AL', 'AL', 'AL', 'AL', 'AL', 'AL', 'AL', 'AL', 'AL', 'AL', 'NL', 'AL', 'AL', 'AL', 'AL', 'AL', 'AL', 'AL', 'NL', 'AL', 'NL', 'AL', 'AL', 'AL', 'AL', 'AL', 'AL', 'AL', 'NL', 'AL', 'NL', 'AL', 'AL', 'AL', 'AL', 'AL', 'NL', 'AL', 'NL', 'AL', 'NL', 'AL', 'NL', 'AL', 'NL', 'AL', 'AL', 'AL', 'AL', 'AL', 'AL', 'NL', 'AL', 'AL', 'NL', 'AL', 'AL', 'NL', 'AL', 'AL', 'AL', 'AL', 'NL', 'AL', 'NL', 'NL', 'AL', 'AL', 'AL', 'NL', 'NL', 'NL', 'AL', 'NL', 'AL', 'AL', 'AL', 'AL', 'AL', 'AL', 'NL', 'AL', 'AL', 'AL', 'AL', 'NL', 'AL', 'NL', 'AL', 'NL', 'AL', 'NL', 'AL', 'AL', 'NL', 'AL', 'AL', 'AL', 'AL', 'NL', 'AL', 'AL', 'AL', 'NL', 'AL', 'AL', 'AL', 'AL', 'AL', 'NL', 'AL', 'AL', 'NL', 'NL', 'AL', 'AL', 'NL', 'AL', 'NL', 'AL', 'NL', 'AL', 'NL', 'NL', 'NL', 'AL', 'AL', 'AL', 'AL', 'AL', 'AL', 'AL', 'AL', 'AL', 'NL', 'AL', 'NL', 'AL', 'AL', 'AL', 'AL', 'AL', 'AL', 'AL', 'NL', 'AL', 'NL', 'AL', 'NL', 'AL', 'NL', 'AL', 'NL', 'AL', 'AL', 'AL', 'NL', 'NL', 'AL', 'AL', 'AL', 'AL', 'AL', 'NL', 'NL', 'AL', 'AL', 'NL', 'NL', 'AL', 'AL', 'AL', 'AL', 'NL', 'AL', 'AL', 'AL', 'AL', 'AL', 'AL', 'AL', 'AL', 'AL', 'NL', 'AL', 'AL', 'AL', 'NL', 'NL', 'NL', 'AL', 'AL', 'AL', 'AL', 'AL', 'NL', 'AL', 'AL', 'AL', 'AL', 'AL', 'AL', 'NL', 'AL', 'NL', 'NL', 'AL', 'AL', 'AL', 'AL', 'AL', 'AL', 'AL', 'NL', 'NL', 'AL', 'NL', 'AL', 'AL', 'NL', 'AL', 'AL', 'AL', 'AL', 'AL', 'AL', 'AL', 'AL', 'AL', 'AL', 'AL', 'NL', 'AL', 'AL', 'AL', 'AL', 'AL', 'AL', 'NL', 'AL', 'NL', 'AL', 'AL', 'AL', 'NL', 'AL', 'AL', 'AL', 'NL', 'AL', 'AL', 'AL', 'AL', 'AL', 'AL', 'NL', 'NL', 'AL', 'NL', 'NL', 'AL', 'NL', 'AL', 'AL', 'NL', 'NL', 'AL', 'NL', 'AL', 'AL', 'AL', 'NL', 'AL', 'AL', 'AL', 'NL', 'AL', 'AL', 'NL', 'AL', 'AL', 'AL', 'NL', 'AL', 'NL', 'AL', 'NL', 'AL', 'NL', 'AL', 'AL', 'AL', 'AL', 'NL', 'NL', 'AL', 'AL', 'AL', 'NL', 'AL', 'AL', 'AL', 'AL', 'NL', 'AL', 'AL', 'AL', 'AL', 'NL', 'AL', 'NL', 'AL', 'AL', 'NL', 'AL', 'AL', 'NL', 'AL', 'AL', 'AL', 'AL', 'NL', 'AL', 'AL', 'NL', 'AL', 'AL', 'AL', 'AL', 'AL', 'AL', 'AL', 'AL', 'AL', 'AL', 'NL', 'AL', 'NL', 'NL', 'NL', 'AL', 'NL', 'NL', 'AL', 'AL', 'AL', 'AL', 'AL', 'NL', 'AL', 'NL', 'AL', 'AL', 'NL', 'AL', 'AL', 'AL', 'AL', 'NL', 'AL', 'AL', 'AL', 'AL', 'NL', 'AL', 'AL', 'AL', 'AL', 'NL', 'AL', 'AL', 'NL', 'NL', 'AL', 'AL', 'AL', 'AL', 'NL', 'NL', 'AL', 'AL', 'AL', 'AL', 'AL', 'AL', 'AL', 'NL', 'AL', 'AL', 'AL', 'AL', 'AL', 'AL', 'NL', 'NL', 'AL', 'AL', 'NL', 'AL', 'AL', 'AL', 'AL', 'AL', 'AL', 'AL', 'AL', 'AL', 'AL', 'AL', 'NL', 'AL', 'AL', 'NL', 'AL', 'NL', 'NL', 'AL', 'AL', 'AL', 'AL', 'AL', 'NL', 'AL', 'AL', 'AL', 'AL', 'NL', 'AL', 'AL', 'AL', 'AL', 'NL', 'AL', 'AL', 'AL', 'AL', 'NL', 'AL', 'NL', 'NL', 'AL', 'AL', 'AL', 'AL', 'AL', 'AL', 'AL', 'AL', 'AL', 'AL', 'NL', 'AL', 'AL', 'AL', 'AL', 'NL', 'NL', 'AL', 'AL', 'AL', 'AL', 'NL', 'AL', 'AL', 'AL', 'AL', 'AL', 'AL', 'AL', 'AL', 'AL', 'NL', 'AL', 'NL', 'NL', 'AL', 'AL', 'NL', 'AL', 'NL', 'AL', 'AL', 'NL', 'AL', 'NL', 'NL', 'AL', 'AL', 'AL', 'NL', 'AL', 'AL', 'AL', 'NL', 'AL', 'AL', 'NL', 'AL', 'NL', 'AL', 'AL', 'AL', 'NL', 'AL', 'AL', 'NL', 'AL']\n"
     ]
    }
   ],
   "source": [
    "# Create variables\n",
    "winning_division_array = []\n",
    "\n",
    "# Loop through each individual World Series within the ws_results array\n",
    "    # Store first value of the tuple at index 0 (winning division)\n",
    "    # Add winning division to the winning_division_array\n",
    "for world_series in ws_results:\n",
    "    division = world_series[0]\n",
    "    winning_division_array.append(division)\n",
    "\n",
    "# Print results\n",
    "print(winning_division_array)"
   ]
  },
  {
   "cell_type": "markdown",
   "metadata": {},
   "source": [
    "#### Count the totals of NL and AL\n",
    "* Loop through each winning division in the array\n",
    "* Update a count for each division accordingly"
   ]
  },
  {
   "cell_type": "code",
   "execution_count": 13,
   "metadata": {},
   "outputs": [
    {
     "name": "stdout",
     "output_type": "stream",
     "text": [
      "Number NL wins: 303\n",
      "Number AL wins: 697\n"
     ]
    }
   ],
   "source": [
    "# Create variables\n",
    "total_al = 0\n",
    "total_nl = 0\n",
    "\n",
    "# Loop through each division in the winning_division_array, update wins\n",
    "for division in winning_division_array:\n",
    "    if division == \"AL\":\n",
    "        total_al = total_al + 1\n",
    "    else:\n",
    "        total_nl = total_nl + 1\n",
    "\n",
    "# Display results\n",
    "print(\"Number NL wins: \" + str(total_nl))\n",
    "print(\"Number AL wins: \" + str(total_al))"
   ]
  },
  {
   "cell_type": "markdown",
   "metadata": {},
   "source": [
    "###  What else can you learn from this data?  In the markdown cell below, list at least 2 questions that you would be able to answer by further analyzing the data.  (Note:  you do not need to actually answer the questions). "
   ]
  },
  {
   "cell_type": "markdown",
   "metadata": {
    "collapsed": true
   },
   "source": [
    "1. How many games does it usually take to win the world series?\n",
    "2. What is the ratio of the wins between Al and NL?"
   ]
  },
  {
   "cell_type": "code",
   "execution_count": null,
   "metadata": {},
   "outputs": [],
   "source": []
  }
 ],
 "metadata": {
  "anaconda-cloud": {},
  "kernelspec": {
   "display_name": "Python 3",
   "language": "python",
   "name": "python3"
  },
  "language_info": {
   "codemirror_mode": {
    "name": "ipython",
    "version": 3
   },
   "file_extension": ".py",
   "mimetype": "text/x-python",
   "name": "python",
   "nbconvert_exporter": "python",
   "pygments_lexer": "ipython3",
   "version": "3.7.1"
  }
 },
 "nbformat": 4,
 "nbformat_minor": 1
}
